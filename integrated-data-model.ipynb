{
 "cells": [
  {
   "cell_type": "code",
   "execution_count": 1,
   "id": "efc5da3b",
   "metadata": {},
   "outputs": [],
   "source": [
    "import tszip"
   ]
  },
  {
   "cell_type": "code",
   "execution_count": 14,
   "id": "2f0464ea",
   "metadata": {
    "scrolled": true
   },
   "outputs": [
    {
     "name": "stdout",
     "output_type": "stream",
     "text": [
      "CPU times: user 775 ms, sys: 533 ms, total: 1.31 s\n",
      "Wall time: 842 ms\n"
     ]
    }
   ],
   "source": [
    "%%time\n",
    "ts = tszip.decompress(\"SARS-Cov-2-ARG.ts.tsz\")"
   ]
  },
  {
   "cell_type": "code",
   "execution_count": 4,
   "id": "44a92bca",
   "metadata": {},
   "outputs": [
    {
     "data": {
      "text/html": [
       "\n",
       "            <div>\n",
       "              <style>\n",
       "                .tskit-table thead tr th {text-align: left;padding: 0.5em 0.5em;}\n",
       "                .tskit-table tbody tr td {padding: 0.5em 0.5em;}\n",
       "                .tskit-table tbody tr td:first-of-type {text-align: left;}\n",
       "                .tskit-details-label {vertical-align: top; padding-right:5px;}\n",
       "                .tskit-table-set {display: inline-flex;flex-wrap: wrap;margin: -12px 0 0 -12px;width: calc(100% + 12px);}\n",
       "                .tskit-table-set-table {margin: 12px 0 0 12px;}\n",
       "                details {display: inline-block;}\n",
       "                summary {cursor: pointer; outline: 0; display: list-item;}\n",
       "              </style>\n",
       "              <div class=\"tskit-table-set\">\n",
       "                <div class=\"tskit-table-set-table\">\n",
       "                  <table class=\"tskit-table\">\n",
       "                    <thead>\n",
       "                      <tr>\n",
       "                        <th style=\"padding:0;line-height:21px;\">\n",
       "                          <img style=\"height: 32px;display: inline-block;padding: 3px 5px 3px 0;\" src=\"https://raw.githubusercontent.com/tskit-dev/administrative/main/tskit_logo.svg\"/>\n",
       "                          <a target=\"_blank\" href=\"https://tskit.dev/tskit/docs/latest/python-api.html#the-treesequence-class\"> Tree Sequence </a>\n",
       "                        </th>\n",
       "                      </tr>\n",
       "                    </thead>\n",
       "                    <tbody>\n",
       "                      <tr><td>Trees</td><td>1496</td></tr>\n",
       "                      <tr><td>Sequence Length</td><td>29904.0</td></tr>\n",
       "                      <tr><td>Time Units</td><td>days</td></tr>\n",
       "                      <tr><td>Sample Nodes</td><td>1265685</td></tr>\n",
       "                      <tr><td>Total Size</td><td>819.3 MiB</td></tr>\n",
       "                      <tr>\n",
       "                        <td>Metadata</td><td style=\"text-align: left;\">No Metadata</td></tr>\n",
       "                    </tbody>\n",
       "                  </table>\n",
       "                </div>\n",
       "                <div class=\"tskit-table-set-table\">\n",
       "                  <table class=\"tskit-table\">\n",
       "                    <thead>\n",
       "                      <tr>\n",
       "                        <th style=\"line-height:21px;\">Table</th>\n",
       "                        <th>Rows</th>\n",
       "                        <th>Size</th>\n",
       "                        <th>Has Metadata</th>\n",
       "                      </tr>\n",
       "                    </thead>\n",
       "                    <tbody>\n",
       "                    \n",
       "                  <tr>\n",
       "                    <td>Edges</td>\n",
       "                      <td>1458146</td>\n",
       "                      <td>44.5 MiB</td>\n",
       "                      <td style=\"text-align: center;\">\n",
       "                        \n",
       "                      </td>\n",
       "                    </tr>\n",
       "                \n",
       "                  <tr>\n",
       "                    <td>Individuals</td>\n",
       "                      <td>0</td>\n",
       "                      <td>24 Bytes</td>\n",
       "                      <td style=\"text-align: center;\">\n",
       "                        \n",
       "                      </td>\n",
       "                    </tr>\n",
       "                \n",
       "                  <tr>\n",
       "                    <td>Migrations</td>\n",
       "                      <td>0</td>\n",
       "                      <td>8 Bytes</td>\n",
       "                      <td style=\"text-align: center;\">\n",
       "                        \n",
       "                      </td>\n",
       "                    </tr>\n",
       "                \n",
       "                  <tr>\n",
       "                    <td>Mutations</td>\n",
       "                      <td>1213193</td>\n",
       "                      <td>45.8 MiB</td>\n",
       "                      <td style=\"text-align: center;\">\n",
       "                        ✅\n",
       "                      </td>\n",
       "                    </tr>\n",
       "                \n",
       "                  <tr>\n",
       "                    <td>Nodes</td>\n",
       "                      <td>1453347</td>\n",
       "                      <td>716.5 MiB</td>\n",
       "                      <td style=\"text-align: center;\">\n",
       "                        ✅\n",
       "                      </td>\n",
       "                    </tr>\n",
       "                \n",
       "                  <tr>\n",
       "                    <td>Populations</td>\n",
       "                      <td>0</td>\n",
       "                      <td>8 Bytes</td>\n",
       "                      <td style=\"text-align: center;\">\n",
       "                        \n",
       "                      </td>\n",
       "                    </tr>\n",
       "                \n",
       "                  <tr>\n",
       "                    <td>Provenances</td>\n",
       "                      <td>1</td>\n",
       "                      <td>874 Bytes</td>\n",
       "                      <td style=\"text-align: center;\">\n",
       "                        \n",
       "                      </td>\n",
       "                    </tr>\n",
       "                \n",
       "                  <tr>\n",
       "                    <td>Sites</td>\n",
       "                      <td>29422</td>\n",
       "                      <td>1.4 MiB</td>\n",
       "                      <td style=\"text-align: center;\">\n",
       "                        ✅\n",
       "                      </td>\n",
       "                    </tr>\n",
       "                \n",
       "                    </tbody>\n",
       "                  </table>\n",
       "                </div>\n",
       "              </div>\n",
       "            </div>\n",
       "            "
      ],
      "text/plain": [
       "<tskit.trees.TreeSequence at 0x7fb8198be320>"
      ]
     },
     "execution_count": 4,
     "metadata": {},
     "output_type": "execute_result"
    }
   ],
   "source": [
    "ts"
   ]
  },
  {
   "cell_type": "code",
   "execution_count": 6,
   "id": "4b4968b7",
   "metadata": {},
   "outputs": [
    {
     "name": "stdout",
     "output_type": "stream",
     "text": [
      "-rw-rw-r-- 1 jk jk 57M Mar  2 13:32 SARS-Cov-2-ARG.ts.tsz\n"
     ]
    }
   ],
   "source": [
    "%%bash\n",
    "ls -lh SARS-Cov-2-ARG.ts.tsz"
   ]
  },
  {
   "cell_type": "markdown",
   "id": "60ddea48",
   "metadata": {},
   "source": [
    "- Complete ARG for 1.26 million SARS-Cov-2 genomes in 57MB!\n",
    "- Loads in < 1s\n",
    "- Integrated data model linking nodes, edges, sites and mutations and external metadata and debug information"
   ]
  },
  {
   "cell_type": "code",
   "execution_count": 32,
   "id": "545c2131",
   "metadata": {
    "scrolled": true
   },
   "outputs": [
    {
     "data": {
      "text/html": [
       "\n",
       "        <div>\n",
       "            <style scoped=\"\">\n",
       "                .tskit-table tbody tr th:only-of-type {vertical-align: middle;}\n",
       "                .tskit-table tbody tr th {vertical-align: top;}\n",
       "                .tskit-table tbody td {text-align: right;padding: 0.5em 0.5em;}\n",
       "                .tskit-table tbody th {padding: 0.5em 0.5em;}\n",
       "            </style>\n",
       "            <table border=\"1\" class=\"tskit-table\">\n",
       "                <thead>\n",
       "                    <tr>\n",
       "                        <th>id</th><th>position</th><th>ancestral_state</th><th>metadata</th>\n",
       "                    </tr>\n",
       "                </thead>\n",
       "                <tbody>\n",
       "                    <tr><td>0</td><td>56</td><td>G</td><td>{'masked_samples': 727232}</td></tr>\n",
       "<tr><td>1</td><td>57</td><td>A</td><td>{'masked_samples': 726137}</td></tr>\n",
       "<tr><td>2</td><td>58</td><td>T</td><td>{'masked_samples': 725063}</td></tr>\n",
       "<tr><td>3</td><td>59</td><td>C</td><td>{'masked_samples': 724533}</td></tr>\n",
       "<tr><td>4</td><td>60</td><td>T</td><td>{'masked_samples': 721663}</td></tr>\n",
       "\n",
       "                </tbody>\n",
       "            </table>\n",
       "        </div>\n",
       "    "
      ],
      "text/plain": [
       "<tskit.tables.SiteTable at 0x7fb8197fdbd0>"
      ]
     },
     "execution_count": 32,
     "metadata": {},
     "output_type": "execute_result"
    }
   ],
   "source": [
    "ts.tables.sites[:5]"
   ]
  },
  {
   "cell_type": "code",
   "execution_count": 31,
   "id": "68923dc2",
   "metadata": {},
   "outputs": [
    {
     "data": {
      "text/html": [
       "\n",
       "        <div>\n",
       "            <style scoped=\"\">\n",
       "                .tskit-table tbody tr th:only-of-type {vertical-align: middle;}\n",
       "                .tskit-table tbody tr th {vertical-align: top;}\n",
       "                .tskit-table tbody td {text-align: right;padding: 0.5em 0.5em;}\n",
       "                .tskit-table tbody th {padding: 0.5em 0.5em;}\n",
       "            </style>\n",
       "            <table border=\"1\" class=\"tskit-table\">\n",
       "                <thead>\n",
       "                    <tr>\n",
       "                        <th>id</th><th>site</th><th>node</th><th>time</th><th>derived_state</th><th>parent</th><th>metadata</th>\n",
       "                    </tr>\n",
       "                </thead>\n",
       "                <tbody>\n",
       "                    <tr><td>0</td><td>0</td><td>171200</td><td>181</td><td>A</td><td>-1</td><td>{}</td></tr>\n",
       "<tr><td>1</td><td>0</td><td>331354</td><td>143</td><td>C</td><td>-1</td><td>{}</td></tr>\n",
       "<tr><td>2</td><td>0</td><td>1026732</td><td>60</td><td>T</td><td>-1</td><td>{}</td></tr>\n",
       "\n",
       "                </tbody>\n",
       "            </table>\n",
       "        </div>\n",
       "    "
      ],
      "text/plain": [
       "<tskit.tables.MutationTable at 0x7fb8197ff790>"
      ]
     },
     "execution_count": 31,
     "metadata": {},
     "output_type": "execute_result"
    }
   ],
   "source": [
    "ts.tables.mutations[ts.mutations_site == 0]"
   ]
  },
  {
   "cell_type": "code",
   "execution_count": 39,
   "id": "7a65df72",
   "metadata": {},
   "outputs": [
    {
     "data": {
      "text/plain": [
       "{'id': 1026732,\n",
       " 'flags': 1,\n",
       " 'time': 60.0,\n",
       " 'population': -1,\n",
       " 'individual': -1,\n",
       " 'metadata': {'Imputed_lineage': 'B.1.1.7',\n",
       "  'Nextclade_pango': 'B.1.1.7',\n",
       "  'clade': '20I (Alpha, V1)',\n",
       "  'country': 'Germany',\n",
       "  'date': '2021-05-01',\n",
       "  'date_submitted': '2021-05-17',\n",
       "  'gisaid_epi_isl': 'EPI_ISL_2122637',\n",
       "  'host': 'Human',\n",
       "  'qc.frameShifts.status': 'good',\n",
       "  'qc.missingData.status': 'good',\n",
       "  'qc.mixedSites.status': 'good',\n",
       "  'qc.stopCodons.status': 'good',\n",
       "  'sc2ts_qc': {'num_masked_sites': 150,\n",
       "   'original_base_composition': {'-': 103,\n",
       "    'A': 8902,\n",
       "    'C': 5473,\n",
       "    'G': 5847,\n",
       "    'T': 9578},\n",
       "   'original_md5': '8ca8e5ad1f098aa806126f2439810d7a'},\n",
       "  'strain': 'Germany/un-RKI-I-137988/2021',\n",
       "  'totalSubstitutions': 36.0}}"
      ]
     },
     "execution_count": 39,
     "metadata": {},
     "output_type": "execute_result"
    }
   ],
   "source": [
    "import dataclasses\n",
    "dataclasses.asdict(ts.node(1026732))"
   ]
  }
 ],
 "metadata": {
  "kernelspec": {
   "display_name": "Python 3 (ipykernel)",
   "language": "python",
   "name": "python3"
  },
  "language_info": {
   "codemirror_mode": {
    "name": "ipython",
    "version": 3
   },
   "file_extension": ".py",
   "mimetype": "text/x-python",
   "name": "python",
   "nbconvert_exporter": "python",
   "pygments_lexer": "ipython3",
   "version": "3.11.2"
  }
 },
 "nbformat": 4,
 "nbformat_minor": 5
}
