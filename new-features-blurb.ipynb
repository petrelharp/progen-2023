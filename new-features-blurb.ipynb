{
 "cells": [
  {
   "cell_type": "code",
   "execution_count": 1,
   "id": "c11b7bbb-db3c-4e05-b6fb-e0f8273776da",
   "metadata": {},
   "outputs": [],
   "source": [
    "import msprime # used to generate datasets\n",
    "import tskit\n",
    "import numba\n",
    "import numpy as np\n",
    "import matplotlib.pyplot as plt\n",
    "import time"
   ]
  },
  {
   "cell_type": "markdown",
   "id": "9f1aa20a-c8ad-428f-99ee-2c9d0e72c1b8",
   "metadata": {},
   "source": [
    "`tskit`'s contributors are diverse and prolific! We are actively working on new features, bug fixes, and improvements to the usability of existing features. Here's a shortlist of some recent additions:\n",
    "\n",
    "### Reference sequences\n",
    "\n",
    "By default, the sites in a tree sequence only define the nucleotide types at the genomic positions where polymorphism is observed. The nucleotides at remaining positions can now be filled using the `TreeSequence.reference_sequence` , and individual sample alignments can be obtained with the new `TreeSequence.alignments()` iterator.\n",
    "\n",
    "### Structural operations\n",
    "\n",
    "We've expanded the set of utility functions for large edits on tree sequences. For instance, the `TreeSequence.decapitate` method removes all parts of a tree sequence that are older than some user-specified time.\n",
    "\n",
    "### Efficient array access \n",
    "\n",
    "The relationships between nodes in each tree can now be extracted as `numpy` arrays. When used in conjunction with `numba`, it is possible to perform Python-based calculations on the trees that run as speedily as machine-level code. Consider these calculations of total branch length on trees of different sizes:"
   ]
  },
  {
   "cell_type": "code",
   "execution_count": 2,
   "id": "f32598f2-f41d-449f-b24e-8d101986e7e7",
   "metadata": {},
   "outputs": [
    {
     "data": {
      "text/html": [
       "\n",
       "            <div>\n",
       "              <style>\n",
       "                .tskit-table thead tr th {text-align: left;padding: 0.5em 0.5em;}\n",
       "                .tskit-table tbody tr td {padding: 0.5em 0.5em;}\n",
       "                .tskit-table tbody tr td:first-of-type {text-align: left;}\n",
       "                .tskit-details-label {vertical-align: top; padding-right:5px;}\n",
       "                .tskit-table-set {display: inline-flex;flex-wrap: wrap;margin: -12px 0 0 -12px;width: calc(100% + 12px);}\n",
       "                .tskit-table-set-table {margin: 12px 0 0 12px;}\n",
       "                details {display: inline-block;}\n",
       "                summary {cursor: pointer; outline: 0; display: list-item;}\n",
       "              </style>\n",
       "              <div class=\"tskit-table-set\">\n",
       "                <div class=\"tskit-table-set-table\">\n",
       "                  <table class=\"tskit-table\">\n",
       "                    <thead>\n",
       "                      <tr>\n",
       "                        <th style=\"padding:0;line-height:21px;\">\n",
       "                          <img style=\"height: 32px;display: inline-block;padding: 3px 5px 3px 0;\" src=\"https://raw.githubusercontent.com/tskit-dev/administrative/main/tskit_logo.svg\"/>\n",
       "                          <a target=\"_blank\" href=\"https://tskit.dev/tskit/docs/latest/python-api.html#the-treesequence-class\"> Tree Sequence </a>\n",
       "                        </th>\n",
       "                      </tr>\n",
       "                    </thead>\n",
       "                    <tbody>\n",
       "                      <tr><td>Trees</td><td>1</td></tr>\n",
       "                      <tr><td>Sequence Length</td><td>1000000.0</td></tr>\n",
       "                      <tr><td>Time Units</td><td>generations</td></tr>\n",
       "                      <tr><td>Sample Nodes</td><td>1000000</td></tr>\n",
       "                      <tr><td>Total Size</td><td>143.1 MiB</td></tr>\n",
       "                      <tr>\n",
       "                        <td>Metadata</td><td style=\"text-align: left;\">No Metadata</td></tr>\n",
       "                    </tbody>\n",
       "                  </table>\n",
       "                </div>\n",
       "                <div class=\"tskit-table-set-table\">\n",
       "                  <table class=\"tskit-table\">\n",
       "                    <thead>\n",
       "                      <tr>\n",
       "                        <th style=\"line-height:21px;\">Table</th>\n",
       "                        <th>Rows</th>\n",
       "                        <th>Size</th>\n",
       "                        <th>Has Metadata</th>\n",
       "                      </tr>\n",
       "                    </thead>\n",
       "                    <tbody>\n",
       "                    \n",
       "                  <tr>\n",
       "                    <td>Edges</td>\n",
       "                      <td>1999998</td>\n",
       "                      <td>61.0 MiB</td>\n",
       "                      <td style=\"text-align: center;\">\n",
       "                        \n",
       "                      </td>\n",
       "                    </tr>\n",
       "                \n",
       "                  <tr>\n",
       "                    <td>Individuals</td>\n",
       "                      <td>500000</td>\n",
       "                      <td>13.4 MiB</td>\n",
       "                      <td style=\"text-align: center;\">\n",
       "                        \n",
       "                      </td>\n",
       "                    </tr>\n",
       "                \n",
       "                  <tr>\n",
       "                    <td>Migrations</td>\n",
       "                      <td>0</td>\n",
       "                      <td>8 Bytes</td>\n",
       "                      <td style=\"text-align: center;\">\n",
       "                        \n",
       "                      </td>\n",
       "                    </tr>\n",
       "                \n",
       "                  <tr>\n",
       "                    <td>Mutations</td>\n",
       "                      <td>0</td>\n",
       "                      <td>16 Bytes</td>\n",
       "                      <td style=\"text-align: center;\">\n",
       "                        \n",
       "                      </td>\n",
       "                    </tr>\n",
       "                \n",
       "                  <tr>\n",
       "                    <td>Nodes</td>\n",
       "                      <td>1999999</td>\n",
       "                      <td>53.4 MiB</td>\n",
       "                      <td style=\"text-align: center;\">\n",
       "                        \n",
       "                      </td>\n",
       "                    </tr>\n",
       "                \n",
       "                  <tr>\n",
       "                    <td>Populations</td>\n",
       "                      <td>1</td>\n",
       "                      <td>224 Bytes</td>\n",
       "                      <td style=\"text-align: center;\">\n",
       "                        ✅\n",
       "                      </td>\n",
       "                    </tr>\n",
       "                \n",
       "                  <tr>\n",
       "                    <td>Provenances</td>\n",
       "                      <td>1</td>\n",
       "                      <td>947 Bytes</td>\n",
       "                      <td style=\"text-align: center;\">\n",
       "                        \n",
       "                      </td>\n",
       "                    </tr>\n",
       "                \n",
       "                  <tr>\n",
       "                    <td>Sites</td>\n",
       "                      <td>0</td>\n",
       "                      <td>16 Bytes</td>\n",
       "                      <td style=\"text-align: center;\">\n",
       "                        \n",
       "                      </td>\n",
       "                    </tr>\n",
       "                \n",
       "                    </tbody>\n",
       "                  </table>\n",
       "                </div>\n",
       "              </div>\n",
       "            </div>\n",
       "            "
      ],
      "text/plain": [
       "<tskit.trees.TreeSequence at 0x7f2632d0b410>"
      ]
     },
     "execution_count": 2,
     "metadata": {},
     "output_type": "execute_result"
    }
   ],
   "source": [
    "ts = msprime.sim_ancestry( # Tree\n",
    "            samples=5e5,\n",
    "            sequence_length=1e6,\n",
    "            random_seed=720,\n",
    "            population_size = 10000\n",
    ")\n",
    "ts"
   ]
  },
  {
   "cell_type": "code",
   "execution_count": 3,
   "id": "7d7af6e3-baea-464d-81c3-710e3e734840",
   "metadata": {},
   "outputs": [],
   "source": [
    "sizes = [1e3, 1e4, 1e5, 1e6]\n",
    "runtime_dict = {}"
   ]
  },
  {
   "cell_type": "code",
   "execution_count": 4,
   "id": "594fd878-933d-40ae-9cdd-bb099a19765c",
   "metadata": {},
   "outputs": [],
   "source": [
    "# Using Python and existing tskit tree methods\n",
    "runtime = []\n",
    "for size in sizes:\n",
    "    if size < 1e6:\n",
    "        ts0 = ts.simplify([i for i in range(int(size))])\n",
    "    else:\n",
    "        ts0 = ts\n",
    "\n",
    "    time_sum = 0\n",
    "    for pos in range(0, 1_000_000, 200_000):\n",
    "        t = ts0.at(pos)\n",
    "        # Time\n",
    "        time_start = time.time()\n",
    "        sum(t.branch_length(u) for u in t.nodes())\n",
    "        time_end = time.time()\n",
    "        time_sum += time_end - time_start\n",
    "    runtime.append(time_sum/5)\n",
    "                           \n",
    "runtime_dict['python'] = runtime    "
   ]
  },
  {
   "cell_type": "code",
   "execution_count": 5,
   "id": "003a5f5b-13e5-473c-824a-38a9247139a1",
   "metadata": {},
   "outputs": [],
   "source": [
    "# Using tskit's inbuilt method (coded in C)\n",
    "runtime = []\n",
    "for size in sizes:\n",
    "    if size < 1e6:\n",
    "        ts0 = ts.simplify([i for i in range(int(size))])\n",
    "    else:\n",
    "        ts0 = ts\n",
    "        \n",
    "    time_sum = 0\n",
    "    for pos in range(0, 1_000_000, 200_000):\n",
    "        t = ts0.at(pos)\n",
    "        # Time\n",
    "        time_start = time.time()\n",
    "        t.total_branch_length\n",
    "        time_end = time.time()\n",
    "        time_sum += time_end - time_start\n",
    "    runtime.append(time_sum/5)\n",
    "                           \n",
    "runtime_dict['tskit'] = runtime  "
   ]
  },
  {
   "cell_type": "code",
   "execution_count": 6,
   "id": "3be25f85-118c-4181-9daf-b74d37045935",
   "metadata": {},
   "outputs": [
    {
     "data": {
      "text/plain": [
       "587726.2722671757"
      ]
     },
     "execution_count": 6,
     "metadata": {},
     "output_type": "execute_result"
    }
   ],
   "source": [
    "# Numba functions using parent_array\n",
    "@numba.njit\n",
    "def _total_branch_length(preorder, parent, node_time):\n",
    "     tbl = 0\n",
    "     for u in preorder:\n",
    "          if parent[u] != -1:\n",
    "               tbl += node_time[parent[u]] - node_time[u]\n",
    "     return tbl\n",
    "\n",
    "def get_total_branch_length(tree):\n",
    "     return _total_branch_length(tree.preorder(), tree.parent_array, tree.tree_sequence.nodes_time)\n",
    "\n",
    "# need to 'preheat' the function before timing it\n",
    "get_total_branch_length(t)"
   ]
  },
  {
   "cell_type": "code",
   "execution_count": 7,
   "id": "b838112a-6123-4fc2-891b-5643e224a812",
   "metadata": {},
   "outputs": [],
   "source": [
    "# Using numba\n",
    "runtime = []\n",
    "for size in sizes:\n",
    "    if size < 1e6:\n",
    "        ts0 = ts.simplify([i for i in range(int(size))])\n",
    "    else:\n",
    "        ts0 = ts\n",
    "        \n",
    "    time_sum = 0\n",
    "    for pos in range(0, 1_000_000, 200_000):\n",
    "        t = ts0.at(pos)\n",
    "        # Time\n",
    "        time_start = time.time()\n",
    "        get_total_branch_length(t)\n",
    "        time_end = time.time()\n",
    "        time_sum += time_end - time_start\n",
    "    runtime.append(time_sum/5)\n",
    "                           \n",
    "runtime_dict['numba'] = runtime  "
   ]
  },
  {
   "cell_type": "code",
   "execution_count": 13,
   "id": "1f5d02b9-762e-4586-b0b3-ed51c4d12c7b",
   "metadata": {},
   "outputs": [
    {
     "data": {
      "image/png": "[encoded data removed]",
      "text/plain": [
       "<Figure size 500x300 with 1 Axes>"
      ]
     },
     "metadata": {},
     "output_type": "display_data"
    }
   ],
   "source": [
    "fig, ax = plt.subplots(1, figsize=(5, 3))\n",
    "ax.grid(axis='y', color='grey', alpha=0.2)\n",
    "ax.grid(axis='x', color='grey', alpha=0.2)\n",
    "ax.plot(sizes, runtime_dict['python'], label='python', alpha=0.7)\n",
    "ax.plot(sizes, runtime_dict['tskit'], label='tskit (built-in)', alpha=0.7)\n",
    "ax.plot(sizes, runtime_dict['numba'], label='numba + tskit', alpha=0.7)\n",
    "ax.set_xscale('log')\n",
    "ax.set_yscale('log')\n",
    "ax.set_title(\"Runtime of total branch length calculation\")\n",
    "ax.set_xlabel(\"Number of samples in tree\")\n",
    "ax.set_ylabel(\"Time (sec)\")\n",
    "ax.legend()\n",
    "plt.tight_layout()\n",
    "fig.savefig(\"images/numba_runtime.pdf\")"
   ]
  }
 ],
 "metadata": {
  "kernelspec": {
   "display_name": "Python 3 (ipykernel)",
   "language": "python",
   "name": "python3"
  },
  "language_info": {
   "codemirror_mode": {
    "name": "ipython",
    "version": 3
   },
   "file_extension": ".py",
   "mimetype": "text/x-python",
   "name": "python",
   "nbconvert_exporter": "python",
   "pygments_lexer": "ipython3",
   "version": "3.11.2"
  }
 },
 "nbformat": 4,
 "nbformat_minor": 5
}
