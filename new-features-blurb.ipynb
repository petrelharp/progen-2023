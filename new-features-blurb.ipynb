{
 "cells": [
  {
   "cell_type": "code",
   "execution_count": null,
   "id": "c11b7bbb-db3c-4e05-b6fb-e0f8273776da",
   "metadata": {},
   "outputs": [],
   "source": [
    "import msprime # used to generate datasets\n",
    "import tskit\n",
    "import numba\n",
    "import numpy as np\n",
    "import matplotlib.pyplot as plt\n",
    "import time"
   ]
  },
  {
   "cell_type": "markdown",
   "id": "9f1aa20a-c8ad-428f-99ee-2c9d0e72c1b8",
   "metadata": {},
   "source": [
    "`tskit`'s contributors are diverse and prolific! We are actively working on new features, bug fixes, and improvements to the usability of existing features. Here's a shortlist of some recent additions:\n",
    "\n",
    "### Reference sequences\n",
    "\n",
    "By default, the sites in a tree sequence only define the nucleotide types at the genomic positions where polymorphism is observed. The nucleotides at remaining positions can now be filled using the `TreeSequence.reference_sequence` , and individual sample alignments can be obtained with the new `TreeSequence.alignments()` iterator.\n",
    "\n",
    "### Structural operations\n",
    "\n",
    "We've expanded the set of utility functions for large edits on tree sequences. For instance, the `TreeSequence.decapitate` method removes all parts of a tree sequence that are older than some user-specified time.\n",
    "\n",
    "### Efficient array access \n",
    "\n",
    "The relationships between nodes in each tree can now be extracted as `numpy` arrays. When used in conjunction with `numba`, it is possible to perform Python-based calculations on the trees that run as speedily as machine-level code. Consider these calculations of total branch length on trees of different sizes:"
   ]
  },
  {
   "cell_type": "code",
   "execution_count": null,
   "id": "f32598f2-f41d-449f-b24e-8d101986e7e7",
   "metadata": {},
   "outputs": [],
   "source": [
    "ts = msprime.sim_ancestry( # Tree\n",
    "            samples=5e5,\n",
    "            sequence_length=1e6,\n",
    "            random_seed=720,\n",
    "            population_size = 10000\n",
    ")\n",
    "ts"
   ]
  },
  {
   "cell_type": "code",
   "execution_count": null,
   "id": "7d7af6e3-baea-464d-81c3-710e3e734840",
   "metadata": {},
   "outputs": [],
   "source": [
    "sizes = [1e3, 1e4, 1e5, 1e6]\n",
    "runtime_dict = {}"
   ]
  },
  {
   "cell_type": "code",
   "execution_count": null,
   "id": "594fd878-933d-40ae-9cdd-bb099a19765c",
   "metadata": {},
   "outputs": [],
   "source": [
    "# Using Python and existing tskit tree methods\n",
    "runtime = []\n",
    "for size in sizes:\n",
    "    if size < 1e6:\n",
    "        ts0 = ts.simplify([i for i in range(int(size))])\n",
    "    else:\n",
    "        ts0 = ts\n",
    "\n",
    "    time_sum = 0\n",
    "    for pos in range(0, 1_000_000, 200_000):\n",
    "        t = ts0.at(pos)\n",
    "        # Time\n",
    "        time_start = time.time()\n",
    "        sum(t.branch_length(u) for u in t.nodes())\n",
    "        time_end = time.time()\n",
    "        time_sum += time_end - time_start\n",
    "    runtime.append(time_sum/5)\n",
    "                           \n",
    "runtime_dict['python'] = runtime    "
   ]
  },
  {
   "cell_type": "code",
   "execution_count": null,
   "id": "003a5f5b-13e5-473c-824a-38a9247139a1",
   "metadata": {},
   "outputs": [],
   "source": [
    "# Using tskit's inbuilt method (coded in C)\n",
    "runtime = []\n",
    "for size in sizes:\n",
    "    if size < 1e6:\n",
    "        ts0 = ts.simplify([i for i in range(int(size))])\n",
    "    else:\n",
    "        ts0 = ts\n",
    "        \n",
    "    time_sum = 0\n",
    "    for pos in range(0, 1_000_000, 200_000):\n",
    "        t = ts0.at(pos)\n",
    "        # Time\n",
    "        time_start = time.time()\n",
    "        t.total_branch_length\n",
    "        time_end = time.time()\n",
    "        time_sum += time_end - time_start\n",
    "    runtime.append(time_sum/5)\n",
    "                           \n",
    "runtime_dict['tskit'] = runtime  "
   ]
  },
  {
   "cell_type": "code",
   "execution_count": null,
   "id": "3be25f85-118c-4181-9daf-b74d37045935",
   "metadata": {},
   "outputs": [],
   "source": [
    "# Numba functions using parent_array\n",
    "@numba.njit\n",
    "def _total_branch_length(preorder, parent, node_time):\n",
    "     tbl = 0\n",
    "     for u in preorder:\n",
    "          if parent[u] != -1:\n",
    "               tbl += node_time[parent[u]] - node_time[u]\n",
    "     return tbl\n",
    "\n",
    "def get_total_branch_length(tree):\n",
    "     return _total_branch_length(tree.preorder(), tree.parent_array, tree.tree_sequence.nodes_time)\n",
    "\n",
    "# need to 'preheat' the function before timing it\n",
    "get_total_branch_length(t)"
   ]
  },
  {
   "cell_type": "code",
   "execution_count": null,
   "id": "b838112a-6123-4fc2-891b-5643e224a812",
   "metadata": {},
   "outputs": [],
   "source": [
    "# Using numba\n",
    "runtime = []\n",
    "for size in sizes:\n",
    "    if size < 1e6:\n",
    "        ts0 = ts.simplify([i for i in range(int(size))])\n",
    "    else:\n",
    "        ts0 = ts\n",
    "        \n",
    "    time_sum = 0\n",
    "    for pos in range(0, 1_000_000, 200_000):\n",
    "        t = ts0.at(pos)\n",
    "        # Time\n",
    "        time_start = time.time()\n",
    "        get_total_branch_length(t)\n",
    "        time_end = time.time()\n",
    "        time_sum += time_end - time_start\n",
    "    runtime.append(time_sum/5)\n",
    "                           \n",
    "runtime_dict['numba'] = runtime  "
   ]
  },
  {
   "cell_type": "code",
   "execution_count": null,
   "id": "1f5d02b9-762e-4586-b0b3-ed51c4d12c7b",
   "metadata": {},
   "outputs": [],
   "source": [
    "fig, ax = plt.subplots(1, figsize=(10, 4))\n",
    "ax.grid(axis='y', color='grey', alpha=0.2)\n",
    "ax.grid(axis='x', color='grey', alpha=0.2)\n",
    "ax.plot(sizes, runtime_dict['python'], label='python', alpha=0.7)\n",
    "ax.plot(sizes, runtime_dict['tskit'], label='tskit (inbuilt func)', alpha=0.7)\n",
    "ax.plot(sizes, runtime_dict['numba'], label='numba + tskit', alpha=0.7)\n",
    "ax.set_xscale('log')\n",
    "ax.set_yscale('log')\n",
    "ax.set_title(\"Runtime of total branch length calculation\")\n",
    "ax.set_xlabel(\"Number of samples in tree\")\n",
    "ax.set_ylabel(\"Time (sec)\")\n",
    "ax.legend()"
   ]
  },
  {
   "cell_type": "code",
   "execution_count": null,
   "id": "b7e8cf62-7700-4463-9f41-27f32c2a5ff6",
   "metadata": {},
   "outputs": [],
   "source": []
  }
 ],
 "metadata": {
  "kernelspec": {
   "display_name": "tspop-dev",
   "language": "python",
   "name": "tspop-dev"
  },
  "language_info": {
   "codemirror_mode": {
    "name": "ipython",
    "version": 3
   },
   "file_extension": ".py",
   "mimetype": "text/x-python",
   "name": "python",
   "nbconvert_exporter": "python",
   "pygments_lexer": "ipython3",
   "version": "3.9.15"
  }
 },
 "nbformat": 4,
 "nbformat_minor": 5
}
