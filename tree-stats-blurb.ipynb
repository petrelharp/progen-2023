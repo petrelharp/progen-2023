{
 "cells": [
  {
   "cell_type": "markdown",
   "id": "a5f36add-4781-4b9e-aac2-57107ddfe3ca",
   "metadata": {},
   "source": [
    "## Tree stats\n",
    "\n",
    "`tskit` lets you perform efficient calculations of statistics along the genome, often many times quicker than other software! You may be interested in calculating...\n",
    "\n",
    " - statistics derived from the allele frequency spectrum like nucleotide diversity, Tajima's D, f2...\n",
    " - IBD-based quantities\n",
    " - tree-based statistics like genealogical nearest neighbours and tree balance metrics...\n",
    "\n",
    "Let's look at `tskit`'s new *tree balance* statistics as an example. A balanced (binary) tree is perfectly symmetric in some way: each node has an equally sized subtree descending from its left- and right- branches, where 'size' is determined by some metric involving the tree's nodes and edges.  `tskit` now contains several different metrics to calculate how unbalanced each tree is:"
   ]
  },
  {
   "cell_type": "code",
   "execution_count": null,
   "id": "9d209e98-44b6-4592-b272-705c9069f318",
   "metadata": {},
   "outputs": [],
   "source": [
    "import msprime # used to generate datasets\n",
    "import tskit\n",
    "import numpy as np\n",
    "import matplotlib.pyplot as plt # used for plots"
   ]
  },
  {
   "cell_type": "code",
   "execution_count": null,
   "id": "74b5b5c0-1e14-4a96-8926-c4b4566d95d4",
   "metadata": {},
   "outputs": [],
   "source": [
    "ts = msprime.sim_ancestry( # 1Mb human-ish tree sequence\n",
    "            samples=1e4,\n",
    "            sequence_length=1e6,\n",
    "            random_seed=408,\n",
    "            recombination_rate=1e-8,\n",
    "            population_size = 10000\n",
    ")"
   ]
  },
  {
   "cell_type": "code",
   "execution_count": null,
   "id": "f7013614-4d45-4cf8-8817-cb521be572a1",
   "metadata": {},
   "outputs": [],
   "source": [
    "b1 = [tree.b1_index() for tree in ts.trees()]\n",
    "b2 = [tree.b2_index() for tree in ts.trees()]\n",
    "colless = [tree.colless_index() for tree in ts.trees()]\n",
    "sackin = [tree.sackin_index() for tree in ts.trees()]"
   ]
  },
  {
   "cell_type": "code",
   "execution_count": null,
   "id": "000a224c-869f-45f8-bd5e-cd8e585c19a7",
   "metadata": {},
   "outputs": [],
   "source": [
    "def normalise_metric(in_values):\n",
    "    mean_val = np.mean(in_values)\n",
    "    std_val = np.std(in_values)\n",
    "    return (in_values - mean_val)/std_val\n",
    "\n",
    "b1_n = normalise_metric(b1)\n",
    "b2_n = normalise_metric(b2)\n",
    "colless_n = normalise_metric(colless)\n",
    "sackin_n = normalise_metric(sackin)"
   ]
  },
  {
   "cell_type": "code",
   "execution_count": null,
   "id": "3a033f74-9739-44a5-8c4a-ef517af576a2",
   "metadata": {},
   "outputs": [],
   "source": [
    "x = [tree.interval.left for tree in ts.trees()]\n",
    "\n",
    "fig, ax = plt.subplots(1, figsize=(16, 4))\n",
    "ax.grid(axis='y', color='grey', alpha=0.2)\n",
    "ax.grid(axis='x', color='grey', alpha=0.2)\n",
    "ax.step(x, b1_n, label='b1', alpha=0.7)\n",
    "ax.step(x, b2_n, label='b2', alpha=0.7)\n",
    "ax.step(x, colless_n, label='colless', alpha=0.7)\n",
    "ax.step(x, sackin_n, label='sackin', alpha=0.7)\n",
    "ax.set_title(\"Normalised tree balance metrics\")\n",
    "ax.set_xlabel(\"Genomic position\")\n",
    "ax.set_ylabel(\"Normalised value\")\n",
    "ax.legend()"
   ]
  },
  {
   "cell_type": "code",
   "execution_count": null,
   "id": "c427ccbe-6cc7-4388-91f8-718a1fe5facc",
   "metadata": {},
   "outputs": [],
   "source": []
  }
 ],
 "metadata": {
  "kernelspec": {
   "display_name": "tspop-dev",
   "language": "python",
   "name": "tspop-dev"
  },
  "language_info": {
   "codemirror_mode": {
    "name": "ipython",
    "version": 3
   },
   "file_extension": ".py",
   "mimetype": "text/x-python",
   "name": "python",
   "nbconvert_exporter": "python",
   "pygments_lexer": "ipython3",
   "version": "3.9.15"
  }
 },
 "nbformat": 4,
 "nbformat_minor": 5
}
